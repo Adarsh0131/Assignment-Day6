{
 "cells": [
  {
   "cell_type": "markdown",
   "metadata": {},
   "source": [
    "# Do the project - Email sending using python and upload it in Github"
   ]
  },
  {
   "cell_type": "code",
   "execution_count": 1,
   "metadata": {},
   "outputs": [
    {
     "name": "stdout",
     "output_type": "stream",
     "text": [
      "Collecting emails\n",
      "  Downloading emails-0.6-py2.py3-none-any.whl (56 kB)\n",
      "Requirement already satisfied: python-dateutil in c:\\users\\adarsh raj\\anaconda3\\lib\\site-packages (from emails) (2.8.1)\n",
      "Requirement already satisfied: chardet in c:\\users\\adarsh raj\\anaconda3\\lib\\site-packages (from emails) (3.0.4)\n",
      "Requirement already satisfied: lxml in c:\\users\\adarsh raj\\anaconda3\\lib\\site-packages (from emails) (4.6.1)\n",
      "Requirement already satisfied: requests in c:\\users\\adarsh raj\\anaconda3\\lib\\site-packages (from emails) (2.24.0)\n",
      "Collecting premailer\n",
      "  Downloading premailer-3.7.0-py2.py3-none-any.whl (18 kB)\n",
      "Collecting cssutils\n",
      "  Downloading cssutils-1.0.2-py3-none-any.whl (406 kB)\n",
      "Requirement already satisfied: six>=1.5 in c:\\users\\adarsh raj\\anaconda3\\lib\\site-packages (from python-dateutil->emails) (1.15.0)\n",
      "Requirement already satisfied: idna<3,>=2.5 in c:\\users\\adarsh raj\\anaconda3\\lib\\site-packages (from requests->emails) (2.10)\n",
      "Requirement already satisfied: urllib3!=1.25.0,!=1.25.1,<1.26,>=1.21.1 in c:\\users\\adarsh raj\\anaconda3\\lib\\site-packages (from requests->emails) (1.25.11)\n",
      "Requirement already satisfied: certifi>=2017.4.17 in c:\\users\\adarsh raj\\anaconda3\\lib\\site-packages (from requests->emails) (2020.6.20)\n",
      "Collecting cachetools\n",
      "  Downloading cachetools-4.2.0-py3-none-any.whl (12 kB)\n",
      "Collecting cssselect\n",
      "  Downloading cssselect-1.1.0-py2.py3-none-any.whl (16 kB)\n",
      "Installing collected packages: cachetools, cssselect, cssutils, premailer, emails\n",
      "Successfully installed cachetools-4.2.0 cssselect-1.1.0 cssutils-1.0.2 emails-0.6 premailer-3.7.0\n"
     ]
    }
   ],
   "source": [
    "!pip install emails"
   ]
  },
  {
   "cell_type": "code",
   "execution_count": 2,
   "metadata": {},
   "outputs": [],
   "source": [
    "import emails"
   ]
  },
  {
   "cell_type": "code",
   "execution_count": 3,
   "metadata": {},
   "outputs": [],
   "source": [
    "html_text ='''<p>Hey!</p>\n",
    "<p><br></p>\n",
    "<p><u><span style=\"background-color: rgb(247, 218, 100);\"><strong><u>Hope u are healthy. Stay Healthy!</u></strong></span></u></p>\n",
    "<p><br></p>\n",
    "<p>Regards</p>\n",
    "<p><span style=\"background-color: rgb(243, 121, 52);\"><span style=\"color: rgb(0, 0, 0);\"><strong>Adarsh</strong></span></span><span style=\"background-color: rgb(243, 121, 52);\"><strong><span style=\"color: rgb(0, 0, 0);\"><br></span></strong></span></p>'''\n",
    "\n",
    "message = emails.html(html=html_text,\n",
    "                          subject=\"Your EMAIL FROM PYTHON SCRIPT\",\n",
    "                          mail_from=('Adarsh Raj', 'adu@xyz.com'))\n"
   ]
  },
  {
   "cell_type": "code",
   "execution_count": 33,
   "metadata": {},
   "outputs": [],
   "source": [
    "mail_via_python = message.send(to='raj.adarsh0131@gmail.com', \n",
    "                               smtp={'host': 'smtp.gmail.com', \n",
    "                                     'timeout': 5,\n",
    "                                    'port':587,\n",
    "                                    'user':'ahujaraj991@gmail.com',\n",
    "                                    'password':'1998Rody@',\n",
    "                                    'tls':True})\n"
   ]
  },
  {
   "cell_type": "code",
   "execution_count": 34,
   "metadata": {},
   "outputs": [],
   "source": [
    "mail_via_python.status_code"
   ]
  },
  {
   "cell_type": "code",
   "execution_count": 35,
   "metadata": {},
   "outputs": [],
   "source": [
    "def sendMail(email, name):\n",
    "    \n",
    "    html_text ='''<p>Hey!</p>\n",
    "                  <p><br></p>\n",
    "                  <p><u><span style=\"background-color: rgb(247, 218, 100);\"><strong><u>Hope u are healthy. Stay Healthy!</u></strong></span></u></p>\n",
    "                  <p><br></p>\n",
    "                  <p>Regards</p>\n",
    "                  <p><span style=\"background-color: rgb(243, 121, 52);\"><span style=\"color: rgb(0, 0, 0);\"><strong>Adarsh</strong></span></span><span style=\"background-color: rgb(243, 121, 52);\"><strong><span style=\"color: rgb(0, 0, 0);\"><br></span></strong></span></p>'''\n",
    "\n",
    "    message = emails.html(html=html_text,\n",
    "                          subject=\"Your EMAIL FROM PYTHON SCRIPT\",\n",
    "                          mail_from=('Adarsh Raj', 'ahujaraj991@gmail.com'))\n",
    "    mail_via_python = message.send(to=email, \n",
    "                               smtp={'host': 'smtp.gmail.com', \n",
    "                                     'timeout': 5,\n",
    "                                    'port': 587,\n",
    "                                    'user': 'ahujaraj991@gmail.com',\n",
    "                                    'password': '1998Rody@',\n",
    "                                    'tls': True})\n",
    "    return mail_via_python.status_code\n",
    "    "
   ]
  },
  {
   "cell_type": "code",
   "execution_count": 36,
   "metadata": {},
   "outputs": [],
   "source": [
    "sendMail(\"raj.adarsh0131@gmail.com\", \"Adarsh\")"
   ]
  },
  {
   "cell_type": "code",
   "execution_count": null,
   "metadata": {},
   "outputs": [],
   "source": []
  }
 ],
 "metadata": {
  "kernelspec": {
   "display_name": "Python 3",
   "language": "python",
   "name": "python3"
  },
  "language_info": {
   "codemirror_mode": {
    "name": "ipython",
    "version": 3
   },
   "file_extension": ".py",
   "mimetype": "text/x-python",
   "name": "python",
   "nbconvert_exporter": "python",
   "pygments_lexer": "ipython3",
   "version": "3.8.5"
  }
 },
 "nbformat": 4,
 "nbformat_minor": 4
}
